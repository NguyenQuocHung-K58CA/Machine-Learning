{
 "cells": [
  {
   "cell_type": "code",
   "execution_count": 1,
   "metadata": {
    "collapsed": false
   },
   "outputs": [
    {
     "name": "stdout",
     "output_type": "stream",
     "text": [
      "2.5\n"
     ]
    }
   ],
   "source": [
    "import theano\n",
    "from theano import tensor as T\n",
    "\n",
    "x1 = T.scalar()\n",
    "w1 = T.scalar()\n",
    "w0 = T.scalar()\n",
    "\n",
    "z1 = w1*x1 + w0\n",
    "\n",
    "net_input = theano.function(inputs=[w1, x1, w0], outputs=z1)\n",
    "\n",
    "print net_input(1.0, 2.0, 0.5)"
   ]
  },
  {
   "cell_type": "code",
   "execution_count": 2,
   "metadata": {
    "collapsed": false
   },
   "outputs": [
    {
     "name": "stdout",
     "output_type": "stream",
     "text": [
      "float64\n",
      "float32\n",
      "cpu\n"
     ]
    }
   ],
   "source": [
    "print theano.config.floatX\n",
    "\n",
    "theano.config.floatX = 'float32'\n",
    "# export THEANO_FLAGS=floatX=float32\n",
    "\n",
    "print theano.config.floatX\n",
    "\n",
    "print theano.config.device"
   ]
  },
  {
   "cell_type": "code",
   "execution_count": 14,
   "metadata": {
    "collapsed": false
   },
   "outputs": [
    {
     "name": "stdout",
     "output_type": "stream",
     "text": [
      "[ 2.  4.  6.]\n",
      "[ 2.  4.  6.]\n",
      "<TensorType(float32, matrix)>\n"
     ]
    }
   ],
   "source": [
    "from theano import tensor as T\n",
    "import numpy as np\n",
    "\n",
    "# initialize\n",
    "x = T.fmatrix(name='x')\n",
    "x_sum = T.sum(x, axis=0)\n",
    "\n",
    "# compile\n",
    "cal_sum = theano.function(inputs=[x], outputs=x_sum)\n",
    "\n",
    "# execute\n",
    "ary = [[1, 2, 3], [1, 2, 3]]\n",
    "print cal_sum(ary)\n",
    "\n",
    "ary = np.array([[1, 2, 3], [1, 2, 3]], dtype=theano.config.floatX)\n",
    "print cal_sum(ary)\n",
    "\n",
    "print x.type()"
   ]
  },
  {
   "cell_type": "code",
   "execution_count": 28,
   "metadata": {
    "collapsed": false
   },
   "outputs": [
    {
     "name": "stdout",
     "output_type": "stream",
     "text": [
      "[[ 0.  0.  0.]]\n",
      "[[ 0.]]\n",
      "[[ 1.  1.  1.]]\n",
      "[[ 6.]]\n",
      "[[ 2.  2.  2.]]\n",
      "[[ 12.]]\n",
      "[[ 3.  3.  3.]]\n",
      "[[ 18.]]\n",
      "[[ 4.  4.  4.]]\n",
      "[[ 24.]]\n"
     ]
    }
   ],
   "source": [
    "from theano import tensor as T\n",
    "import numpy as np\n",
    "\n",
    "# initialize\n",
    "\n",
    "data = np.array([[1, 2, 3]], dtype=theano.config.floatX)\n",
    "x = T.fmatrix('x')\n",
    "w = theano.shared(np.asarray([[0., 0., 0.]], dtype=theano.config.floatX))\n",
    "\n",
    "z = x.dot(w.T)\n",
    "update = [[w, w + 1.]]\n",
    "\n",
    "# compile\n",
    "\n",
    "net_input = theano.function(inputs=[],\n",
    "                            updates = update,\n",
    "                            givens = {x: data},\n",
    "                            outputs = z)\n",
    "\n",
    "# execute\n",
    "\n",
    "for i in range(5):\n",
    "    print w.get_value()\n",
    "    print net_input()"
   ]
  },
  {
   "cell_type": "code",
   "execution_count": 52,
   "metadata": {
    "collapsed": false
   },
   "outputs": [
    {
     "name": "stdout",
     "output_type": "stream",
     "text": [
      "Elemwise{add,no_inplace}.0\n"
     ]
    },
    {
     "ename": "TypeError",
     "evalue": "Unknown parameter type: <type 'float'>",
     "output_type": "error",
     "traceback": [
      "\u001b[0;31m---------------------------------------------------------------------------\u001b[0m",
      "\u001b[0;31mTypeError\u001b[0m                                 Traceback (most recent call last)",
      "\u001b[0;32m<ipython-input-52-5398666119ec>\u001b[0m in \u001b[0;36m<module>\u001b[0;34m()\u001b[0m\n\u001b[1;32m     43\u001b[0m     \u001b[0;32mreturn\u001b[0m \u001b[0mcosts\u001b[0m\u001b[0;34m,\u001b[0m \u001b[0mw\u001b[0m\u001b[0;34m\u001b[0m\u001b[0m\n\u001b[1;32m     44\u001b[0m \u001b[0;34m\u001b[0m\u001b[0m\n\u001b[0;32m---> 45\u001b[0;31m \u001b[0mcosts\u001b[0m\u001b[0;34m,\u001b[0m \u001b[0mw\u001b[0m \u001b[0;34m=\u001b[0m \u001b[0mtrain_linreg\u001b[0m\u001b[0;34m(\u001b[0m\u001b[0mX_train\u001b[0m\u001b[0;34m,\u001b[0m \u001b[0my_train\u001b[0m\u001b[0;34m,\u001b[0m \u001b[0meta\u001b[0m \u001b[0;34m=\u001b[0m \u001b[0;36m0.1\u001b[0m\u001b[0;34m,\u001b[0m \u001b[0mepochs\u001b[0m \u001b[0;34m=\u001b[0m \u001b[0;36m1\u001b[0m\u001b[0;34m)\u001b[0m\u001b[0;34m\u001b[0m\u001b[0m\n\u001b[0m",
      "\u001b[0;32m<ipython-input-52-5398666119ec>\u001b[0m in \u001b[0;36mtrain_linreg\u001b[0;34m(X_train, y_train, eta, epochs)\u001b[0m\n\u001b[1;32m     36\u001b[0m                           \u001b[0moutputs\u001b[0m \u001b[0;34m=\u001b[0m \u001b[0mcost\u001b[0m\u001b[0;34m,\u001b[0m\u001b[0;34m\u001b[0m\u001b[0m\n\u001b[1;32m     37\u001b[0m                           \u001b[0mupdates\u001b[0m \u001b[0;34m=\u001b[0m \u001b[0mupdate\u001b[0m\u001b[0;34m,\u001b[0m\u001b[0;34m\u001b[0m\u001b[0m\n\u001b[0;32m---> 38\u001b[0;31m                           givens = {X: X_train, y: y_train})\n\u001b[0m\u001b[1;32m     39\u001b[0m \u001b[0;34m\u001b[0m\u001b[0m\n\u001b[1;32m     40\u001b[0m     \u001b[0;32mfor\u001b[0m \u001b[0mi\u001b[0m \u001b[0;32min\u001b[0m \u001b[0mrange\u001b[0m\u001b[0;34m(\u001b[0m\u001b[0mepochs\u001b[0m\u001b[0;34m)\u001b[0m\u001b[0;34m:\u001b[0m\u001b[0;34m\u001b[0m\u001b[0m\n",
      "\u001b[0;32m/home/qhungnb/anaconda2/lib/python2.7/site-packages/theano/compile/function.pyc\u001b[0m in \u001b[0;36mfunction\u001b[0;34m(inputs, outputs, mode, updates, givens, no_default_updates, accept_inplace, name, rebuild_strict, allow_input_downcast, profile, on_unused_input)\u001b[0m\n\u001b[1;32m    318\u001b[0m                    \u001b[0mon_unused_input\u001b[0m\u001b[0;34m=\u001b[0m\u001b[0mon_unused_input\u001b[0m\u001b[0;34m,\u001b[0m\u001b[0;34m\u001b[0m\u001b[0m\n\u001b[1;32m    319\u001b[0m                    \u001b[0mprofile\u001b[0m\u001b[0;34m=\u001b[0m\u001b[0mprofile\u001b[0m\u001b[0;34m,\u001b[0m\u001b[0;34m\u001b[0m\u001b[0m\n\u001b[0;32m--> 320\u001b[0;31m                    output_keys=output_keys)\n\u001b[0m\u001b[1;32m    321\u001b[0m     \u001b[0;31m# We need to add the flag check_aliased inputs if we have any mutable or\u001b[0m\u001b[0;34m\u001b[0m\u001b[0;34m\u001b[0m\u001b[0m\n\u001b[1;32m    322\u001b[0m     \u001b[0;31m# borrowed used defined inputs\u001b[0m\u001b[0;34m\u001b[0m\u001b[0;34m\u001b[0m\u001b[0m\n",
      "\u001b[0;32m/home/qhungnb/anaconda2/lib/python2.7/site-packages/theano/compile/pfunc.pyc\u001b[0m in \u001b[0;36mpfunc\u001b[0;34m(params, outputs, mode, updates, givens, no_default_updates, accept_inplace, name, rebuild_strict, allow_input_downcast, profile, on_unused_input, output_keys)\u001b[0m\n\u001b[1;32m    388\u001b[0m     \u001b[0;31m# transform params into theano.compile.In objects.\u001b[0m\u001b[0;34m\u001b[0m\u001b[0;34m\u001b[0m\u001b[0m\n\u001b[1;32m    389\u001b[0m     inputs = [_pfunc_param_to_in(p, allow_downcast=allow_input_downcast)\n\u001b[0;32m--> 390\u001b[0;31m               for p in params]\n\u001b[0m\u001b[1;32m    391\u001b[0m \u001b[0;34m\u001b[0m\u001b[0m\n\u001b[1;32m    392\u001b[0m     \u001b[0;31m# Check if some variable is present more than once in inputs\u001b[0m\u001b[0;34m\u001b[0m\u001b[0;34m\u001b[0m\u001b[0m\n",
      "\u001b[0;32m/home/qhungnb/anaconda2/lib/python2.7/site-packages/theano/compile/pfunc.pyc\u001b[0m in \u001b[0;36m_pfunc_param_to_in\u001b[0;34m(param, strict, allow_downcast)\u001b[0m\n\u001b[1;32m    487\u001b[0m     \u001b[0;32melif\u001b[0m \u001b[0misinstance\u001b[0m\u001b[0;34m(\u001b[0m\u001b[0mparam\u001b[0m\u001b[0;34m,\u001b[0m \u001b[0mIn\u001b[0m\u001b[0;34m)\u001b[0m\u001b[0;34m:\u001b[0m\u001b[0;34m\u001b[0m\u001b[0m\n\u001b[1;32m    488\u001b[0m         \u001b[0;32mreturn\u001b[0m \u001b[0mparam\u001b[0m\u001b[0;34m\u001b[0m\u001b[0m\n\u001b[0;32m--> 489\u001b[0;31m     \u001b[0;32mraise\u001b[0m \u001b[0mTypeError\u001b[0m\u001b[0;34m(\u001b[0m\u001b[0;34m'Unknown parameter type: %s'\u001b[0m \u001b[0;34m%\u001b[0m \u001b[0mtype\u001b[0m\u001b[0;34m(\u001b[0m\u001b[0mparam\u001b[0m\u001b[0;34m)\u001b[0m\u001b[0;34m)\u001b[0m\u001b[0;34m\u001b[0m\u001b[0m\n\u001b[0m\u001b[1;32m    490\u001b[0m \u001b[0;34m\u001b[0m\u001b[0m\n\u001b[1;32m    491\u001b[0m \u001b[0;34m\u001b[0m\u001b[0m\n",
      "\u001b[0;31mTypeError\u001b[0m: Unknown parameter type: <type 'float'>"
     ]
    }
   ],
   "source": [
    "import theano\n",
    "from theano import tensor as T\n",
    "import numpy as np\n",
    "\n",
    "X_train = np.asarray([[0.0], [1.0], [2.0], [3.0], [4.0], [5.0], [6.0], [7.0], [8.0], [9.0]],\n",
    "                     dtype=theano.config.floatX)\n",
    "y_train = np.asarray([1.0, 1.3, 3.1, 2.0, 5.0, 6.3, 6.6, 7.4, 8.0, 9.0],\n",
    "                     dtype=theano.config.floatX)\n",
    "\n",
    "def train_linreg(X_train, y_train, eta, epochs):\n",
    "    \n",
    "    costs = []\n",
    "    \n",
    "    #Initialize arrays\n",
    "    eta0 = T.fscalar('eta0')\n",
    "    eta0 = eta\n",
    "    y = T.fvector('y')\n",
    "    X = T.fmatrix('X')\n",
    "    \n",
    "    w = theano.shared(np.zeros(shape = (X_train.shape[1] + 1), \n",
    "                               dtype = theano.config.floatX), \n",
    "                               name = 'w')\n",
    "    \n",
    "    # calcaltate cost\n",
    "    net_input = T.dot(X, w[1:]) + w[0]\n",
    "    y_error = y - net_input\n",
    "    cost = T.sum(T.pow(y_error, 2))\n",
    "    \n",
    "    # perform gradient update\n",
    "    gradient = T.grad(cost, wrt = w)\n",
    "    update = [[w, w - eta0 * gradient]]\n",
    "    \n",
    "    # compile model\n",
    "    train = theano.function(inputs = [eta], \n",
    "                          outputs = cost,\n",
    "                          updates = update,\n",
    "                          givens = {X: X_train, y: y_train})\n",
    "    \n",
    "    for i in range(epochs):\n",
    "        costs.append(train(eta))\n",
    "        \n",
    "    return costs, w\n",
    "\n",
    "costs, w = train_linreg(X_train, y_train, eta = 0.1, epochs = 1)"
   ]
  }
 ],
 "metadata": {
  "anaconda-cloud": {},
  "kernelspec": {
   "display_name": "Python [default]",
   "language": "python",
   "name": "python2"
  },
  "language_info": {
   "codemirror_mode": {
    "name": "ipython",
    "version": 2
   },
   "file_extension": ".py",
   "mimetype": "text/x-python",
   "name": "python",
   "nbconvert_exporter": "python",
   "pygments_lexer": "ipython2",
   "version": "2.7.12"
  }
 },
 "nbformat": 4,
 "nbformat_minor": 1
}
