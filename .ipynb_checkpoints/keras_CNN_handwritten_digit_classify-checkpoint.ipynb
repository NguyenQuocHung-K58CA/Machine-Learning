{
 "cells": [
  {
   "cell_type": "code",
   "execution_count": 32,
   "metadata": {
    "collapsed": false
   },
   "outputs": [],
   "source": [
    "import numpy\n",
    "from keras.datasets import mnist\n",
    "from keras.models import Sequential\n",
    "from keras.layers import Dense\n",
    "from keras.layers import Dropout\n",
    "from keras.utils import np_utils\n",
    "from keras.optimizers import SGD\n",
    "from keras.layers import Flatten\n",
    "from keras.layers.convolutional import Convolution2D\n",
    "from keras.layers.convolutional import MaxPooling2D\n",
    "from keras import backend as K\n",
    "K.set_image_dim_ordering('th')\n",
    "\n",
    "# fix random seed for reproducibility\n",
    "seed = 7\n",
    "numpy.random.seed(seed)"
   ]
  },
  {
   "cell_type": "code",
   "execution_count": 33,
   "metadata": {
    "collapsed": true
   },
   "outputs": [],
   "source": [
    "# load data\n",
    "(X_train, y_train), (X_test, y_test) = mnist.load_data()\n",
    "\n",
    "# flatten 28*28 images to a 784 vector for each image\n",
    "num_pixels = X_train.shape[1] * X_train.shape[2]\n",
    "X_train = X_train.reshape(X_train.shape[0], num_pixels).astype('float32')\n",
    "X_test = X_test.reshape(X_test.shape[0], num_pixels).astype('float32')"
   ]
  },
  {
   "cell_type": "code",
   "execution_count": 34,
   "metadata": {
    "collapsed": false
   },
   "outputs": [
    {
     "name": "stdout",
     "output_type": "stream",
     "text": [
      "784 10\n",
      "Train on 60000 samples, validate on 10000 samples\n",
      "Epoch 1/10\n",
      "4s - loss: 0.2791 - acc: 0.9203 - val_loss: 0.1420 - val_acc: 0.9579\n",
      "Epoch 2/10\n",
      "4s - loss: 0.1122 - acc: 0.9679 - val_loss: 0.0992 - val_acc: 0.9698\n",
      "Epoch 3/10\n",
      "4s - loss: 0.0723 - acc: 0.9789 - val_loss: 0.0782 - val_acc: 0.9751\n",
      "Epoch 4/10\n",
      "4s - loss: 0.0509 - acc: 0.9854 - val_loss: 0.0790 - val_acc: 0.9764\n",
      "Epoch 5/10\n",
      "4s - loss: 0.0365 - acc: 0.9898 - val_loss: 0.0630 - val_acc: 0.9788\n",
      "Epoch 6/10\n",
      "4s - loss: 0.0264 - acc: 0.9930 - val_loss: 0.0648 - val_acc: 0.9797\n",
      "Epoch 7/10\n",
      "4s - loss: 0.0186 - acc: 0.9958 - val_loss: 0.0615 - val_acc: 0.9806\n",
      "Epoch 8/10\n",
      "4s - loss: 0.0147 - acc: 0.9969 - val_loss: 0.0623 - val_acc: 0.9810\n",
      "Epoch 9/10\n",
      "4s - loss: 0.0107 - acc: 0.9980 - val_loss: 0.0607 - val_acc: 0.9816\n",
      "Epoch 10/10\n",
      "4s - loss: 0.0072 - acc: 0.9988 - val_loss: 0.0598 - val_acc: 0.9821\n"
     ]
    },
    {
     "data": {
      "text/plain": [
       "<keras.callbacks.History at 0x7f5557142a90>"
      ]
     },
     "execution_count": 34,
     "metadata": {},
     "output_type": "execute_result"
    }
   ],
   "source": [
    "# normalize inputs from 0-255 to 0-1\n",
    "X_train = X_train/255\n",
    "X_test = X_test/255\n",
    "\n",
    "# one hot encoder\n",
    "y_train = np_utils.to_categorical(y_train)\n",
    "y_test = np_utils.to_categorical(y_test)\n",
    "num_pixels = X_test.shape[1]\n",
    "num_classes = y_test.shape[1]\n",
    "\n",
    "print num_pixels, num_classes\n",
    "\n",
    "def baseline_model():\n",
    "    model = Sequential()\n",
    "    model.add(Dense(num_pixels, \n",
    "                    input_dim = num_pixels,\n",
    "                    init = 'normal',\n",
    "                    activation = 'relu'))\n",
    "    \n",
    "    model.add(Dense(num_classes, \n",
    "                    init='normal', \n",
    "                    activation='softmax'))\n",
    "    # Compile model\n",
    "    model.compile(loss='categorical_crossentropy', optimizer='adam', metrics=['accuracy'])\n",
    "    return model\n",
    "\n",
    "# build the model\n",
    "model = baseline_model()\n",
    "# Fit the model\n",
    "model.fit(X_train, y_train, \n",
    "          validation_data=(X_test, y_test), \n",
    "          nb_epoch=10, \n",
    "          batch_size=200, \n",
    "          verbose=2)"
   ]
  },
  {
   "cell_type": "code",
   "execution_count": 35,
   "metadata": {
    "collapsed": false
   },
   "outputs": [
    {
     "name": "stdout",
     "output_type": "stream",
     "text": [
      "[0.059831361798860595, 0.98209999999999997]\n",
      "Baseline Score: 98.21%\n"
     ]
    }
   ],
   "source": [
    "\n",
    "# Final evaluation of the model\n",
    "scores = model.evaluate(X_test, y_test, verbose=0)\n",
    "print scores\n",
    "\n",
    "print(\"Baseline Score: %.2f%%\" % (scores[1]*100))"
   ]
  },
  {
   "cell_type": "code",
   "execution_count": 38,
   "metadata": {
    "collapsed": true
   },
   "outputs": [],
   "source": [
    "#CNN\n",
    "\n",
    "# load data\n",
    "(X_train, y_train), (X_test, y_test) = mnist.load_data()\n",
    "# reshape to be [samples][pixels][width][height]\n",
    "X_train = X_train.reshape(X_train.shape[0], 1, 28, 28).astype('float32')\n",
    "X_test = X_test.reshape(X_test.shape[0], 1, 28, 28).astype('float32')\n",
    "\n",
    "# normalize inputs from 0-255 to 0-1\n",
    "X_train = X_train / 255\n",
    "X_test = X_test / 255\n",
    "# one hot encode outputs\n",
    "y_train = np_utils.to_categorical(y_train)\n",
    "y_test = np_utils.to_categorical(y_test)\n",
    "num_classes = y_test.shape[1]\n",
    "\n",
    "def baseline_model():\n",
    "    # create model\n",
    "    model = Sequential()\n",
    "    model.add(Convolution2D(32, 5, 5, \n",
    "                            border_mode='valid', \n",
    "                            input_shape=(1, 28, 28), \n",
    "                            activation='tanh'))\n",
    "    model.add(MaxPooling2D(pool_size=(2, 2)))\n",
    "    model.add(Dropout(0.2))\n",
    "    model.add(Flatten())\n",
    "    model.add(Dense(128, activation='tanh'))\n",
    "    model.add(Dense(num_classes, activation='softmax'))\n",
    "    # Compile model\n",
    "    model.compile(loss='categorical_crossentropy', optimizer='adam', metrics=['accuracy'])\n",
    "    return model"
   ]
  },
  {
   "cell_type": "code",
   "execution_count": 40,
   "metadata": {
    "collapsed": false
   },
   "outputs": [
    {
     "name": "stdout",
     "output_type": "stream",
     "text": [
      "Train on 60000 samples, validate on 10000 samples\n",
      "Epoch 1/10\n",
      "37s - loss: 0.2359 - acc: 0.9322 - val_loss: 0.0731 - val_acc: 0.9790\n",
      "Epoch 2/10\n",
      "37s - loss: 0.0722 - acc: 0.9786 - val_loss: 0.0514 - val_acc: 0.9826\n",
      "Epoch 3/10\n",
      "41s - loss: 0.0503 - acc: 0.9844 - val_loss: 0.0423 - val_acc: 0.9863\n",
      "Epoch 4/10\n",
      "42s - loss: 0.0402 - acc: 0.9879 - val_loss: 0.0410 - val_acc: 0.9871\n",
      "Epoch 5/10\n",
      "42s - loss: 0.0319 - acc: 0.9901 - val_loss: 0.0374 - val_acc: 0.9874\n",
      "Epoch 6/10\n",
      "39s - loss: 0.0270 - acc: 0.9910 - val_loss: 0.0355 - val_acc: 0.9889\n",
      "Epoch 7/10\n",
      "39s - loss: 0.0212 - acc: 0.9934 - val_loss: 0.0323 - val_acc: 0.9897\n",
      "Epoch 8/10\n",
      "39s - loss: 0.0184 - acc: 0.9940 - val_loss: 0.0340 - val_acc: 0.9900\n",
      "Epoch 9/10\n",
      "39s - loss: 0.0165 - acc: 0.9946 - val_loss: 0.0337 - val_acc: 0.9897\n",
      "Epoch 10/10\n",
      "40s - loss: 0.0138 - acc: 0.9956 - val_loss: 0.0375 - val_acc: 0.9883\n",
      "Baseline Error: 1.17%\n"
     ]
    }
   ],
   "source": [
    "# build the model\n",
    "model = baseline_model()\n",
    "# Fit the model\n",
    "model.fit(X_train, y_train, validation_data=(X_test, y_test), nb_epoch=10, batch_size=200, verbose=2)\n",
    "# Final evaluation of the model\n",
    "scores = model.evaluate(X_test, y_test, verbose=0)\n",
    "print(\"Baseline Error: %.2f%%\" % (100-scores[1]*100))"
   ]
  },
  {
   "cell_type": "code",
   "execution_count": null,
   "metadata": {
    "collapsed": false
   },
   "outputs": [
    {
     "name": "stdout",
     "output_type": "stream",
     "text": [
      "Train on 60000 samples, validate on 10000 samples\n",
      "Epoch 1/10\n"
     ]
    }
   ],
   "source": [
    "def larger_model():\n",
    "    # create model\n",
    "    model = Sequential()\n",
    "    model.add(Convolution2D(30, 5, 5, border_mode='valid', input_shape=(1, 28, 28), activation='tanh'))\n",
    "    model.add(MaxPooling2D(pool_size=(2, 2)))\n",
    "    model.add(Convolution2D(15, 3, 3, activation='tanh'))\n",
    "    model.add(MaxPooling2D(pool_size=(2, 2)))\n",
    "    model.add(Dropout(0.2))\n",
    "    model.add(Flatten())\n",
    "    model.add(Dense(128, activation='tanh'))\n",
    "    model.add(Dense(50, activation='tanh'))\n",
    "    model.add(Dense(num_classes, activation='softmax'))\n",
    "    # Compile model\n",
    "    model.compile(loss='categorical_crossentropy', optimizer='adam', metrics=['accuracy'])\n",
    "    return model\n",
    "\n",
    "# build the model\n",
    "model = larger_model()\n",
    "# Fit the model\n",
    "model.fit(X_train, y_train, validation_data=(X_test, y_test), nb_epoch=10, batch_size=200, verbose=2)\n",
    "# Final evaluation of the model\n",
    "scores = model.evaluate(X_test, y_test, verbose=0)\n",
    "print(\"Baseline Error: %.2f%%\" % (100-scores[1]*100))"
   ]
  }
 ],
 "metadata": {
  "anaconda-cloud": {},
  "kernelspec": {
   "display_name": "Python [default]",
   "language": "python",
   "name": "python2"
  },
  "language_info": {
   "codemirror_mode": {
    "name": "ipython",
    "version": 2
   },
   "file_extension": ".py",
   "mimetype": "text/x-python",
   "name": "python",
   "nbconvert_exporter": "python",
   "pygments_lexer": "ipython2",
   "version": "2.7.12"
  }
 },
 "nbformat": 4,
 "nbformat_minor": 1
}
