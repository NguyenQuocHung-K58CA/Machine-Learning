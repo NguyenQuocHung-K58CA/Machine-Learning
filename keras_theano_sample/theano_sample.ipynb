{
 "cells": [
  {
   "cell_type": "code",
   "execution_count": 1,
   "metadata": {
    "collapsed": false
   },
   "outputs": [
    {
     "name": "stdout",
     "output_type": "stream",
     "text": [
      "2.5\n"
     ]
    }
   ],
   "source": [
    "import theano\n",
    "from theano import tensor as T\n",
    "\n",
    "x1 = T.scalar()\n",
    "w1 = T.scalar()\n",
    "w0 = T.scalar()\n",
    "\n",
    "z1 = w1*x1 + w0\n",
    "\n",
    "net_input = theano.function(inputs=[w1, x1, w0], outputs=z1)\n",
    "\n",
    "print net_input(1.0, 2.0, 0.5)"
   ]
  },
  {
   "cell_type": "code",
   "execution_count": 2,
   "metadata": {
    "collapsed": false
   },
   "outputs": [
    {
     "name": "stdout",
     "output_type": "stream",
     "text": [
      "float64\n",
      "float32\n",
      "cpu\n"
     ]
    }
   ],
   "source": [
    "print theano.config.floatX\n",
    "\n",
    "theano.config.floatX = 'float32'\n",
    "# export THEANO_FLAGS=floatX=float32\n",
    "\n",
    "print theano.config.floatX\n",
    "\n",
    "print theano.config.device"
   ]
  },
  {
   "cell_type": "code",
   "execution_count": 14,
   "metadata": {
    "collapsed": false
   },
   "outputs": [
    {
     "name": "stdout",
     "output_type": "stream",
     "text": [
      "[ 2.  4.  6.]\n",
      "[ 2.  4.  6.]\n",
      "<TensorType(float32, matrix)>\n"
     ]
    }
   ],
   "source": [
    "from theano import tensor as T\n",
    "import numpy as np\n",
    "\n",
    "# initialize\n",
    "x = T.fmatrix(name='x')\n",
    "x_sum = T.sum(x, axis=0)\n",
    "\n",
    "# compile\n",
    "cal_sum = theano.function(inputs=[x], outputs=x_sum)\n",
    "\n",
    "# execute\n",
    "ary = [[1, 2, 3], [1, 2, 3]]\n",
    "print cal_sum(ary)\n",
    "\n",
    "ary = np.array([[1, 2, 3], [1, 2, 3]], dtype=theano.config.floatX)\n",
    "print cal_sum(ary)\n",
    "\n",
    "print x.type()"
   ]
  },
  {
   "cell_type": "code",
   "execution_count": 28,
   "metadata": {
    "collapsed": false
   },
   "outputs": [
    {
     "name": "stdout",
     "output_type": "stream",
     "text": [
      "[[ 0.  0.  0.]]\n",
      "[[ 0.]]\n",
      "[[ 1.  1.  1.]]\n",
      "[[ 6.]]\n",
      "[[ 2.  2.  2.]]\n",
      "[[ 12.]]\n",
      "[[ 3.  3.  3.]]\n",
      "[[ 18.]]\n",
      "[[ 4.  4.  4.]]\n",
      "[[ 24.]]\n"
     ]
    }
   ],
   "source": [
    "from theano import tensor as T\n",
    "import numpy as np\n",
    "\n",
    "# initialize\n",
    "\n",
    "data = np.array([[1, 2, 3]], dtype=theano.config.floatX)\n",
    "x = T.fmatrix('x')\n",
    "w = theano.shared(np.asarray([[0., 0., 0.]], dtype=theano.config.floatX))\n",
    "\n",
    "z = x.dot(w.T)\n",
    "update = [[w, w + 1.]]\n",
    "\n",
    "# compile\n",
    "\n",
    "net_input = theano.function(inputs=[],\n",
    "                            updates = update,\n",
    "                            givens = {x: data},\n",
    "                            outputs = z)\n",
    "\n",
    "# execute\n",
    "\n",
    "for i in range(5):\n",
    "    print w.get_value()\n",
    "    print net_input()"
   ]
  },
  {
   "cell_type": "code",
   "execution_count": 60,
   "metadata": {
    "collapsed": false
   },
   "outputs": [],
   "source": [
    "import theano\n",
    "from theano import tensor as T\n",
    "import numpy as np\n",
    "\n",
    "X_train = np.asarray([[0.0], [1.0], [2.0], [3.0], [4.0], [5.0], [6.0], [7.0], [8.0], [9.0]],\n",
    "                     dtype=theano.config.floatX)\n",
    "y_train = np.asarray([1.0, 1.3, 3.1, 2.0, 5.0, 6.3, 6.6, 7.4, 8.0, 9.0],\n",
    "                     dtype=theano.config.floatX)\n",
    "\n",
    "def train_linreg(X_train, y_train, eta, epochs):\n",
    "    \n",
    "    costs = []\n",
    "    \n",
    "    #Initialize arrays\n",
    "    eta0 = T.fscalar('eta0')\n",
    "    y = T.fvector(name = 'y')\n",
    "    X = T.fmatrix(name = 'X')\n",
    "    \n",
    "    w = theano.shared(np.zeros(shape = (X_train.shape[1] + 1), \n",
    "                               dtype = theano.config.floatX), \n",
    "                               name = 'w')\n",
    "    \n",
    "    # calcaltate cost\n",
    "    net_input = T.dot(X, w[1:]) + w[0]\n",
    "    y_error = y - net_input\n",
    "    cost = T.sum(T.pow(y_error, 2))\n",
    "    \n",
    "    # perform gradient update\n",
    "    gradient = T.grad(cost, wrt = w)\n",
    "    update = [[w, w - eta0 * gradient]]\n",
    "    \n",
    "    # compile model\n",
    "    train = theano.function(inputs = [eta0], \n",
    "                          outputs = cost,\n",
    "                          updates = update,\n",
    "                          givens = {X: X_train, y: y_train})\n",
    "    \n",
    "    for i in range(epochs):\n",
    "        costs.append(train(eta))\n",
    "        \n",
    "    return costs, w\n",
    "\n",
    "def predict_linreg(X, w):\n",
    "    Xt = T.fmatrix(name = 'X')\n",
    "    net_input = T.dot(Xt, w[1:]) + w[0]\n",
    "    \n",
    "    predict = theano.function(inputs=[Xt],\n",
    "                             givens = {w: w},\n",
    "                             outputs = net_input)\n",
    "    \n",
    "    return predict(X)"
   ]
  },
  {
   "cell_type": "code",
   "execution_count": 61,
   "metadata": {
    "collapsed": false
   },
   "outputs": [
    {
     "data": {
      "image/png": "[encoded data removed]",
      "text/plain": [
       "<matplotlib.figure.Figure at 0x7faa9a1627d0>"
      ]
     },
     "metadata": {},
     "output_type": "display_data"
    }
   ],
   "source": [
    "import matplotlib.pyplot as plt\n",
    "\n",
    "costs, w = train_linreg(X_train, y_train, eta = 0.001, epochs = 10)\n",
    "\n",
    "plt.plot(range(1, len(costs) + 1), costs, c = 'r')\n",
    "plt.tight_layout()\n",
    "plt.xlabel('Epoch')\n",
    "plt.ylabel('Cost')\n",
    "plt.show()"
   ]
  },
  {
   "cell_type": "code",
   "execution_count": 63,
   "metadata": {
    "collapsed": false
   },
   "outputs": [
    {
     "data": {
      "image/png": "[encoded data removed]",
      "text/plain": [
       "<matplotlib.figure.Figure at 0x7faa8fd85590>"
      ]
     },
     "metadata": {},
     "output_type": "display_data"
    }
   ],
   "source": [
    "plt.scatter(X_train, y_train, marker = 's', s = 50)\n",
    "plt.plot(range(X_train.shape[0]), predict_linreg(X_train, w),\n",
    "        color = 'gray',\n",
    "        marker = 'o',\n",
    "        markersize = 4,\n",
    "        linewidth = 3)\n",
    "\n",
    "plt.xlabel('x')\n",
    "plt.ylabel('y')\n",
    "plt.show()"
   ]
  },
  {
   "cell_type": "code",
   "execution_count": null,
   "metadata": {
    "collapsed": true
   },
   "outputs": [],
   "source": []
  }
 ],
 "metadata": {
  "anaconda-cloud": {},
  "kernelspec": {
   "display_name": "Python [default]",
   "language": "python",
   "name": "python2"
  },
  "language_info": {
   "codemirror_mode": {
    "name": "ipython",
    "version": 2
   },
   "file_extension": ".py",
   "mimetype": "text/x-python",
   "name": "python",
   "nbconvert_exporter": "python",
   "pygments_lexer": "ipython2",
   "version": "2.7.12"
  }
 },
 "nbformat": 4,
 "nbformat_minor": 1
}
