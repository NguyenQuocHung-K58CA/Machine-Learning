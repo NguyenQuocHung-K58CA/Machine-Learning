{
 "cells": [
  {
   "cell_type": "code",
   "execution_count": 54,
   "metadata": {
    "collapsed": false
   },
   "outputs": [
    {
     "name": "stdout",
     "output_type": "stream",
     "text": [
      "Rows: 60000, columns: 784\n"
     ]
    }
   ],
   "source": [
    "import os\n",
    "import struct\n",
    "import numpy as np\n",
    "def load_mnist(path, kind='train'):\n",
    "    \"\"\"Load MNIST data from `path`\"\"\"\n",
    "    labels_path = os.path.join(path, '%s-labels-idx1-ubyte'% kind)\n",
    "    images_path = os.path.join(path, '%s-images-idx3-ubyte'% kind) \n",
    "    with open(labels_path, 'rb') as lbpath:\n",
    "        magic, n = struct.unpack('>II', lbpath.read(8))\n",
    "        labels = np.fromfile(lbpath, dtype=np.uint8)\n",
    "    with open(images_path, 'rb') as imgpath:\n",
    "        magic, num, rows, cols = struct.unpack(\">IIII\", imgpath.read(16))\n",
    "        images = np.fromfile(imgpath,dtype=np.uint8).reshape(len(labels), 784)\n",
    "    \n",
    "    return images, labels\n",
    "\n",
    "X_train, y_train = load_mnist('mnist', kind='train')\n",
    "print('Rows: %d, columns: %d' % (X_train.shape[0], X_train.shape[1]))\n",
    "X_test, y_test = load_mnist('mnist', kind='t10k')"
   ]
  },
  {
   "cell_type": "code",
   "execution_count": 65,
   "metadata": {
    "collapsed": true
   },
   "outputs": [],
   "source": [
    "import theano\n",
    "from keras.datasets import mnist\n",
    "\n",
    "theano.config.floatX = 'float32'\n",
    "\n",
    "# load data\n",
    "(X_train, y_train), (X_test, y_test) = mnist.load_data()\n",
    "\n",
    "# flatten 28*28 images to a 784 vector for each image\n",
    "num_pixels = X_train.shape[1] * X_train.shape[2]\n",
    "X_train = X_train.reshape(X_train.shape[0], num_pixels).astype('float32')\n",
    "X_test = X_test.reshape(X_test.shape[0], num_pixels).astype('float32')\n",
    "\n",
    "X_train = X_train.astype(theano.config.floatX)\n",
    "X_test = X_test.astype(theano.config.floatX)"
   ]
  },
  {
   "cell_type": "code",
   "execution_count": 66,
   "metadata": {
    "collapsed": false
   },
   "outputs": [
    {
     "name": "stdout",
     "output_type": "stream",
     "text": [
      "[[ 0.  0.  0.  0.  0.  1.  0.  0.  0.  0.]\n",
      " [ 1.  0.  0.  0.  0.  0.  0.  0.  0.  0.]\n",
      " [ 0.  0.  0.  0.  1.  0.  0.  0.  0.  0.]]\n"
     ]
    }
   ],
   "source": [
    "from keras.utils import np_utils\n",
    "\n",
    "y_train_ohe = np_utils.to_categorical(y_train)\n",
    "\n",
    "print y_train_ohe[:3]"
   ]
  },
  {
   "cell_type": "code",
   "execution_count": 68,
   "metadata": {
    "collapsed": false
   },
   "outputs": [],
   "source": [
    "from keras.models import Sequential\n",
    "from keras.layers.core import Dense\n",
    "from keras.optimizers import SGD\n",
    "from keras.layers import Dropout\n",
    "\n",
    "np.random.seed(1)\n",
    "\n",
    "model = Sequential()\n",
    "\n",
    "model.add(Dense(input_dim = X_train.shape[1],\n",
    "                output_dim = 300,\n",
    "                init = 'uniform',\n",
    "                activation = 'tanh'))\n",
    "\n",
    "model.add(Dropout(0.25))\n",
    "\n",
    "model.add(Dense(input_dim=300,\n",
    "                output_dim=100,\n",
    "                init='uniform',\n",
    "                activation='tanh'))\n",
    "\n",
    "model.add(Dropout(0.2))\n",
    "\n",
    "model.add(Dense(input_dim = 100,\n",
    "                output_dim = y_train_ohe.shape[1],\n",
    "                init = 'uniform',\n",
    "                activation = 'softmax'))\n",
    "\n",
    "sgd = SGD(lr = 0.001, decay = 1e-7, momentum = 0.9)\n",
    "model.compile(loss = 'categorical_crossentropy', optimizer = sgd)"
   ]
  },
  {
   "cell_type": "code",
   "execution_count": 69,
   "metadata": {
    "collapsed": false
   },
   "outputs": [
    {
     "name": "stdout",
     "output_type": "stream",
     "text": [
      "Train on 54000 samples, validate on 6000 samples\n",
      "Epoch 1/50\n",
      "54000/54000 [==============================] - 4s - loss: 1.2493 - val_loss: 0.5262\n",
      "Epoch 2/50\n",
      "54000/54000 [==============================] - 4s - loss: 0.5026 - val_loss: 0.3277\n",
      "Epoch 3/50\n",
      "54000/54000 [==============================] - 4s - loss: 0.3921 - val_loss: 0.2692\n",
      "Epoch 4/50\n",
      "54000/54000 [==============================] - 4s - loss: 0.3475 - val_loss: 0.2427\n",
      "Epoch 5/50\n",
      "54000/54000 [==============================] - 4s - loss: 0.3327 - val_loss: 0.2302\n",
      "Epoch 6/50\n",
      "54000/54000 [==============================] - 4s - loss: 0.3066 - val_loss: 0.2081\n",
      "Epoch 7/50\n",
      "54000/54000 [==============================] - 4s - loss: 0.2981 - val_loss: 0.1982\n",
      "Epoch 8/50\n",
      "54000/54000 [==============================] - 4s - loss: 0.2885 - val_loss: 0.1967\n",
      "Epoch 9/50\n",
      "54000/54000 [==============================] - 4s - loss: 0.2855 - val_loss: 0.1803\n",
      "Epoch 10/50\n",
      "54000/54000 [==============================] - 4s - loss: 0.2752 - val_loss: 0.1835\n",
      "Epoch 11/50\n",
      "54000/54000 [==============================] - 4s - loss: 0.2732 - val_loss: 0.1682\n",
      "Epoch 12/50\n",
      "54000/54000 [==============================] - 4s - loss: 0.2607 - val_loss: 0.1627\n",
      "Epoch 13/50\n",
      "54000/54000 [==============================] - 4s - loss: 0.2513 - val_loss: 0.1636\n",
      "Epoch 14/50\n",
      "54000/54000 [==============================] - 4s - loss: 0.2537 - val_loss: 0.1642\n",
      "Epoch 15/50\n",
      "54000/54000 [==============================] - 4s - loss: 0.2546 - val_loss: 0.1621\n",
      "Epoch 16/50\n",
      "54000/54000 [==============================] - 4s - loss: 0.2524 - val_loss: 0.1566\n",
      "Epoch 17/50\n",
      "54000/54000 [==============================] - 4s - loss: 0.2399 - val_loss: 0.1584\n",
      "Epoch 18/50\n",
      "54000/54000 [==============================] - 4s - loss: 0.2359 - val_loss: 0.1500\n",
      "Epoch 19/50\n",
      "54000/54000 [==============================] - 4s - loss: 0.2343 - val_loss: 0.1476\n",
      "Epoch 20/50\n",
      "54000/54000 [==============================] - 4s - loss: 0.2309 - val_loss: 0.1466\n",
      "Epoch 21/50\n",
      "54000/54000 [==============================] - 4s - loss: 0.2374 - val_loss: 0.1545\n",
      "Epoch 22/50\n",
      "54000/54000 [==============================] - 5s - loss: 0.2421 - val_loss: 0.1524\n",
      "Epoch 23/50\n",
      "54000/54000 [==============================] - 5s - loss: 0.2386 - val_loss: 0.1383\n",
      "Epoch 24/50\n",
      "54000/54000 [==============================] - 4s - loss: 0.2261 - val_loss: 0.1485\n",
      "Epoch 25/50\n",
      "54000/54000 [==============================] - 5s - loss: 0.2259 - val_loss: 0.1410\n",
      "Epoch 26/50\n",
      "54000/54000 [==============================] - 4s - loss: 0.2259 - val_loss: 0.1360\n",
      "Epoch 27/50\n",
      "54000/54000 [==============================] - 4s - loss: 0.2167 - val_loss: 0.1365\n",
      "Epoch 28/50\n",
      "54000/54000 [==============================] - 5s - loss: 0.2165 - val_loss: 0.1351\n",
      "Epoch 29/50\n",
      "54000/54000 [==============================] - 5s - loss: 0.2127 - val_loss: 0.1359\n",
      "Epoch 30/50\n",
      "54000/54000 [==============================] - 6s - loss: 0.2155 - val_loss: 0.1337\n",
      "Epoch 31/50\n",
      "54000/54000 [==============================] - 5s - loss: 0.2120 - val_loss: 0.1270\n",
      "Epoch 32/50\n",
      "54000/54000 [==============================] - 5s - loss: 0.2057 - val_loss: 0.1312\n",
      "Epoch 33/50\n",
      "54000/54000 [==============================] - 5s - loss: 0.2079 - val_loss: 0.1333\n",
      "Epoch 34/50\n",
      "54000/54000 [==============================] - 9s - loss: 0.2059 - val_loss: 0.1349\n",
      "Epoch 35/50\n",
      "54000/54000 [==============================] - 11s - loss: 0.2081 - val_loss: 0.1265\n",
      "Epoch 36/50\n",
      "54000/54000 [==============================] - 10s - loss: 0.2023 - val_loss: 0.1296\n",
      "Epoch 37/50\n",
      "54000/54000 [==============================] - 11s - loss: 0.2012 - val_loss: 0.1303\n",
      "Epoch 38/50\n",
      "54000/54000 [==============================] - 11s - loss: 0.2073 - val_loss: 0.1282\n",
      "Epoch 39/50\n",
      "54000/54000 [==============================] - 11s - loss: 0.1984 - val_loss: 0.1267\n",
      "Epoch 40/50\n",
      "54000/54000 [==============================] - 11s - loss: 0.2017 - val_loss: 0.1259\n",
      "Epoch 41/50\n",
      "54000/54000 [==============================] - 10s - loss: 0.1999 - val_loss: 0.1268\n",
      "Epoch 42/50\n",
      "54000/54000 [==============================] - 10s - loss: 0.1971 - val_loss: 0.1216\n",
      "Epoch 43/50\n",
      "54000/54000 [==============================] - 6s - loss: 0.1968 - val_loss: 0.1253\n",
      "Epoch 44/50\n",
      "54000/54000 [==============================] - 5s - loss: 0.1990 - val_loss: 0.1252\n",
      "Epoch 45/50\n",
      "54000/54000 [==============================] - 6s - loss: 0.1999 - val_loss: 0.1194\n",
      "Epoch 46/50\n",
      "54000/54000 [==============================] - 6s - loss: 0.1942 - val_loss: 0.1203\n",
      "Epoch 47/50\n",
      "54000/54000 [==============================] - 6s - loss: 0.1891 - val_loss: 0.1200\n",
      "Epoch 48/50\n",
      "54000/54000 [==============================] - 5s - loss: 0.1897 - val_loss: 0.1215\n",
      "Epoch 49/50\n",
      "54000/54000 [==============================] - 6s - loss: 0.1929 - val_loss: 0.1215\n",
      "Epoch 50/50\n",
      "54000/54000 [==============================] - 5s - loss: 0.1878 - val_loss: 0.1161\n"
     ]
    }
   ],
   "source": [
    "history = model.fit(X_train, \n",
    "          y_train_ohe,\n",
    "          nb_epoch = 50,\n",
    "          batch_size = 100,\n",
    "          verbose = 1,\n",
    "          validation_split = 0.1,\n",
    "          show_accuracy = True)\n",
    "# print(history.history.keys())"
   ]
  },
  {
   "cell_type": "code",
   "execution_count": 70,
   "metadata": {
    "collapsed": false
   },
   "outputs": [
    {
     "name": "stdout",
     "output_type": "stream",
     "text": [
      "96.16\n",
      "95.85\n"
     ]
    }
   ],
   "source": [
    "y_train_pred = model.predict_classes(X_train, verbose = 0)\n",
    "\n",
    "train_acc = np.sum(y_train == y_train_pred, axis=0)*1.0/X_train.shape[0]\n",
    "\n",
    "print (\"%.2f\" % (train_acc*100))\n",
    "\n",
    "y_test_pred = model.predict_classes(X_test, verbose = 0)\n",
    "\n",
    "test_acc = np.sum(y_test == y_test_pred, axis=0)*1.0/X_test.shape[0]\n",
    "print (\"%.2f\" % (test_acc*100))\n"
   ]
  }
 ],
 "metadata": {
  "anaconda-cloud": {},
  "kernelspec": {
   "display_name": "Python [default]",
   "language": "python",
   "name": "python2"
  },
  "language_info": {
   "codemirror_mode": {
    "name": "ipython",
    "version": 2
   },
   "file_extension": ".py",
   "mimetype": "text/x-python",
   "name": "python",
   "nbconvert_exporter": "python",
   "pygments_lexer": "ipython2",
   "version": "2.7.12"
  }
 },
 "nbformat": 4,
 "nbformat_minor": 1
}
