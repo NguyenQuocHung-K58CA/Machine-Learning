{
 "cells": [
  {
   "cell_type": "code",
   "execution_count": 30,
   "metadata": {
    "collapsed": false
   },
   "outputs": [
    {
     "name": "stdout",
     "output_type": "stream",
     "text": [
      "784 10\n"
     ]
    }
   ],
   "source": [
    "import numpy\n",
    "from keras.datasets import mnist\n",
    "from keras.models import Sequential\n",
    "from keras.layers import Dense\n",
    "from keras.layers import Dropout\n",
    "from keras.utils import np_utils\n",
    "from keras.optimizers import SGD\n",
    "from keras.layers import Flatten\n",
    "from keras.layers.convolutional import Convolution2D\n",
    "from keras.layers.convolutional import MaxPooling2D\n",
    "from keras import backend as K\n",
    "K.set_image_dim_ordering('th')\n",
    "\n",
    "# fix random seed for reproducibility\n",
    "seed = 7\n",
    "numpy.random.seed(seed)\n",
    "\n",
    "# load data\n",
    "(X_train, y_train), (X_test, y_test) = mnist.load_data()\n",
    "X_test_tmp = X_test.copy()\n",
    "y_test_tmp = y_test.copy()\n",
    "\n",
    "# flatten 28*28 images to a 784 vector for each image\n",
    "num_pixels = X_train.shape[1] * X_train.shape[2]\n",
    "X_train = X_train.reshape(X_train.shape[0], num_pixels).astype('float32')\n",
    "X_test = X_test.reshape(X_test.shape[0], num_pixels).astype('float32')\n",
    "\n",
    "# normalize inputs from 0-255 to 0-1\n",
    "X_train = X_train/255.0\n",
    "X_test = X_test/255.0\n",
    "\n",
    "# one hot encoder\n",
    "y_train = np_utils.to_categorical(y_train)\n",
    "y_test = np_utils.to_categorical(y_test)\n",
    "num_pixels = X_test.shape[1]\n",
    "num_classes = y_test.shape[1]\n",
    "\n",
    "print num_pixels, num_classes"
   ]
  },
  {
   "cell_type": "code",
   "execution_count": 6,
   "metadata": {
    "collapsed": false
   },
   "outputs": [
    {
     "name": "stdout",
     "output_type": "stream",
     "text": [
      "Train on 60000 samples, validate on 10000 samples\n",
      "Epoch 1/10\n",
      "7s - loss: 0.2791 - acc: 0.9203 - val_loss: 0.1420 - val_acc: 0.9579\n",
      "Epoch 2/10\n",
      "9s - loss: 0.1122 - acc: 0.9679 - val_loss: 0.0992 - val_acc: 0.9698\n",
      "Epoch 3/10\n",
      "8s - loss: 0.0723 - acc: 0.9789 - val_loss: 0.0782 - val_acc: 0.9751\n",
      "Epoch 4/10\n",
      "9s - loss: 0.0509 - acc: 0.9854 - val_loss: 0.0790 - val_acc: 0.9764\n",
      "Epoch 5/10\n",
      "9s - loss: 0.0365 - acc: 0.9898 - val_loss: 0.0630 - val_acc: 0.9788\n",
      "Epoch 6/10\n",
      "9s - loss: 0.0264 - acc: 0.9930 - val_loss: 0.0648 - val_acc: 0.9797\n",
      "Epoch 7/10\n",
      "8s - loss: 0.0186 - acc: 0.9958 - val_loss: 0.0615 - val_acc: 0.9806\n",
      "Epoch 8/10\n",
      "8s - loss: 0.0147 - acc: 0.9969 - val_loss: 0.0623 - val_acc: 0.9810\n",
      "Epoch 9/10\n",
      "10s - loss: 0.0107 - acc: 0.9980 - val_loss: 0.0607 - val_acc: 0.9816\n",
      "Epoch 10/10\n",
      "9s - loss: 0.0072 - acc: 0.9988 - val_loss: 0.0598 - val_acc: 0.9821\n"
     ]
    },
    {
     "data": {
      "text/plain": [
       "<keras.callbacks.History at 0x7f84141d2dd0>"
      ]
     },
     "execution_count": 6,
     "metadata": {},
     "output_type": "execute_result"
    }
   ],
   "source": [
    "def baseline_model():\n",
    "    model = Sequential()\n",
    "    model.add(Dense(num_pixels, \n",
    "                    input_dim = num_pixels,\n",
    "                    init = 'normal',\n",
    "                    activation = 'relu'))\n",
    "    \n",
    "    model.add(Dense(num_classes, \n",
    "                    init='normal', \n",
    "                    activation='softmax'))\n",
    "    # Compile model\n",
    "    model.compile(loss='categorical_crossentropy', optimizer='adam', metrics=['accuracy'])\n",
    "    return model\n",
    "\n",
    "# build the model\n",
    "model = baseline_model()\n",
    "# Fit the model\n",
    "model.fit(X_train, y_train, \n",
    "          validation_data=(X_test, y_test), \n",
    "          nb_epoch=10, \n",
    "          batch_size=200, \n",
    "          verbose=2)"
   ]
  },
  {
   "cell_type": "code",
   "execution_count": 7,
   "metadata": {
    "collapsed": false
   },
   "outputs": [
    {
     "name": "stdout",
     "output_type": "stream",
     "text": [
      "[0.059831361798860595, 0.98209999999999997]\n",
      "Baseline Score: 98.21%\n"
     ]
    }
   ],
   "source": [
    "# Final evaluation of the model\n",
    "scores = model.evaluate(X_test, y_test, verbose=0)\n",
    "print scores\n",
    "\n",
    "print(\"Baseline Score: %.2f%%\" % (scores[1]*100))"
   ]
  },
  {
   "cell_type": "code",
   "execution_count": 39,
   "metadata": {
    "collapsed": true
   },
   "outputs": [],
   "source": [
    "#CNN\n",
    "\n",
    "# load data\n",
    "(X_train, y_train), (X_test, y_test) = mnist.load_data()\n",
    "# reshape to be [samples][pixels][width][height]\n",
    "X_train = X_train.reshape(X_train.shape[0], 1, 28, 28).astype('float32')\n",
    "X_test = X_test.reshape(X_test.shape[0], 1, 28, 28).astype('float32')\n",
    "\n",
    "# normalize inputs from 0-255 to 0-1\n",
    "X_train = X_train / 255\n",
    "X_test = X_test / 255\n",
    "# one hot encode outputs\n",
    "y_train = np_utils.to_categorical(y_train)\n",
    "y_test = np_utils.to_categorical(y_test)\n",
    "num_classes = y_test.shape[1]\n",
    "\n",
    "def baseline_cnn_model():\n",
    "    # create model\n",
    "    model = Sequential()\n",
    "    model.add(Convolution2D(32, 5, 5, \n",
    "                            border_mode='valid', \n",
    "                            input_shape=(1, 28, 28), \n",
    "                            activation='relu'))\n",
    "    model.add(MaxPooling2D(pool_size=(2, 2)))\n",
    "    model.add(Dropout(0.2))\n",
    "    model.add(Flatten())\n",
    "    model.add(Dense(128, activation='relu'))\n",
    "    model.add(Dense(num_classes, activation='softmax'))\n",
    "    # Compile model\n",
    "    model.compile(loss='categorical_crossentropy', \n",
    "                  optimizer='adam', \n",
    "                  metrics=['accuracy'])\n",
    "    return model"
   ]
  },
  {
   "cell_type": "code",
   "execution_count": 46,
   "metadata": {
    "collapsed": false
   },
   "outputs": [
    {
     "name": "stdout",
     "output_type": "stream",
     "text": [
      "Train on 60000 samples, validate on 10000 samples\n",
      "Epoch 1/10\n",
      "40s - loss: 0.2381 - acc: 0.9309 - val_loss: 0.0805 - val_acc: 0.9764\n",
      "Epoch 2/10\n",
      "42s - loss: 0.0739 - acc: 0.9775 - val_loss: 0.0506 - val_acc: 0.9846\n",
      "Epoch 3/10\n",
      "45s - loss: 0.0505 - acc: 0.9848 - val_loss: 0.0460 - val_acc: 0.9854\n",
      "Epoch 4/10\n",
      "40s - loss: 0.0405 - acc: 0.9876 - val_loss: 0.0377 - val_acc: 0.9876\n",
      "Epoch 5/10\n",
      "39s - loss: 0.0325 - acc: 0.9899 - val_loss: 0.0364 - val_acc: 0.9880\n",
      "Epoch 6/10\n",
      "38s - loss: 0.0267 - acc: 0.9914 - val_loss: 0.0399 - val_acc: 0.9867\n",
      "Epoch 7/10\n",
      "40s - loss: 0.0244 - acc: 0.9922 - val_loss: 0.0332 - val_acc: 0.9890\n",
      "Epoch 8/10\n",
      "41s - loss: 0.0193 - acc: 0.9941 - val_loss: 0.0330 - val_acc: 0.9883\n",
      "Epoch 9/10\n",
      "44s - loss: 0.0166 - acc: 0.9946 - val_loss: 0.0365 - val_acc: 0.9893\n",
      "Epoch 10/10\n",
      "42s - loss: 0.0140 - acc: 0.9954 - val_loss: 0.0494 - val_acc: 0.9844\n",
      "Baseline Error: 1.56%\n"
     ]
    }
   ],
   "source": [
    "# build the model\n",
    "model = baseline_cnn_model()\n",
    "# Fit the model\n",
    "model.fit(X_train, y_train, validation_data=(X_test, y_test), nb_epoch=10, batch_size=200, verbose=2)\n",
    "# Final evaluation of the model\n",
    "scores = model.evaluate(X_test, y_test, verbose=0)\n",
    "print(\"Baseline Score: %.2f%%\" % (scores[1]*100))"
   ]
  },
  {
   "cell_type": "code",
   "execution_count": 40,
   "metadata": {
    "collapsed": false
   },
   "outputs": [
    {
     "name": "stdout",
     "output_type": "stream",
     "text": [
      "Train on 60000 samples, validate on 10000 samples\n",
      "Epoch 1/10\n",
      "119s - loss: 0.3311 - acc: 0.9087 - val_loss: 0.0918 - val_acc: 0.9712\n",
      "Epoch 2/10\n",
      "121s - loss: 0.0964 - acc: 0.9719 - val_loss: 0.0583 - val_acc: 0.9806\n",
      "Epoch 3/10\n",
      "116s - loss: 0.0689 - acc: 0.9798 - val_loss: 0.0456 - val_acc: 0.9856\n",
      "Epoch 4/10\n",
      "117s - loss: 0.0538 - acc: 0.9840 - val_loss: 0.0404 - val_acc: 0.9867\n",
      "Epoch 5/10\n",
      "119s - loss: 0.0465 - acc: 0.9861 - val_loss: 0.0324 - val_acc: 0.9892\n",
      "Epoch 6/10\n",
      "122s - loss: 0.0415 - acc: 0.9876 - val_loss: 0.0305 - val_acc: 0.9904\n",
      "Epoch 7/10\n",
      "124s - loss: 0.0340 - acc: 0.9892 - val_loss: 0.0297 - val_acc: 0.9911\n",
      "Epoch 8/10\n",
      "124s - loss: 0.0311 - acc: 0.9906 - val_loss: 0.0273 - val_acc: 0.9915\n",
      "Epoch 9/10\n",
      "130s - loss: 0.0268 - acc: 0.9916 - val_loss: 0.0311 - val_acc: 0.9902\n",
      "Epoch 10/10\n",
      "126s - loss: 0.0245 - acc: 0.9924 - val_loss: 0.0302 - val_acc: 0.9901\n",
      "Larger Model Score: 99.01%\n"
     ]
    }
   ],
   "source": [
    "def larger_model():\n",
    "    # create model\n",
    "    model = Sequential()\n",
    "    model.add(Convolution2D(30, 5, 5, \n",
    "                            border_mode='valid', \n",
    "                            input_shape=(1, 28, 28), \n",
    "                            activation='tanh'))\n",
    "    \n",
    "    model.add(MaxPooling2D(pool_size=(2, 2)))\n",
    "    model.add(Convolution2D(15, 3, 3, activation='tanh'))\n",
    "    model.add(MaxPooling2D(pool_size=(2, 2)))\n",
    "    model.add(Dropout(0.2))\n",
    "    model.add(Flatten())\n",
    "    model.add(Dense(128, activation='tanh'))\n",
    "    model.add(Dense(50, activation='tanh'))\n",
    "    model.add(Dense(num_classes, activation='softmax'))\n",
    "    \n",
    "    # Compile model\n",
    "    model.compile(loss='categorical_crossentropy', optimizer='adam', metrics=['accuracy'])\n",
    "    return model\n",
    "\n",
    "# build the model\n",
    "model = larger_model()\n",
    "# Fit the model\n",
    "model.fit(X_train, y_train, \n",
    "          validation_data=(X_test, y_test), \n",
    "          nb_epoch=10, \n",
    "          batch_size=200, \n",
    "          verbose=2)\n",
    "# Final evaluation of the model\n",
    "\n",
    "scores = model.evaluate(X_test, y_test, verbose=0)\n",
    "print(\"Larger Model Score: %.2f%%\" % (scores[1]*100))"
   ]
  },
  {
   "cell_type": "code",
   "execution_count": 50,
   "metadata": {
    "collapsed": false
   },
   "outputs": [
    {
     "name": "stdout",
     "output_type": "stream",
     "text": [
      "99.01\n"
     ]
    },
    {
     "data": {
      "image/png": "[encoded data removed]",
      "text/plain": [
       "<matplotlib.figure.Figure at 0x7f8406e3cf10>"
      ]
     },
     "metadata": {},
     "output_type": "display_data"
    }
   ],
   "source": [
    "from matplotlib import pyplot as plt\n",
    "y_test_pred = model.predict_classes(X_test, verbose=0)\n",
    "\n",
    "score = numpy.sum(y_test_tmp == y_test_pred, axis=0)*1.0/y_test.shape[0]\n",
    "print (\"%.2f\" %(score*100))\n",
    "\n",
    "miscl_img = X_test_tmp[y_test_tmp != y_test_pred][50:80]\n",
    "correct_lab = y_test_tmp[y_test_tmp != y_test_pred][50:80]\n",
    "miscl_lab = y_test_pred[y_test_tmp != y_test_pred][50:80]\n",
    "\n",
    "fig, ax = plt.subplots(nrows = 6, ncols = 5, sharex=True, sharey=True)\n",
    "\n",
    "ax = ax.flatten()\n",
    "\n",
    "for i in range(30):\n",
    "    img = miscl_img[i].reshape(28, 28)\n",
    "    ax[i].imshow(img, cmap='Greys', interpolation = 'nearest')\n",
    "    ax[i].set_title('%d) t: %d p: %d' %(i+1, correct_lab[i], miscl_lab[i]))\n",
    "    \n",
    "ax[0].set_xticks([])\n",
    "ax[0].set_yticks([])\n",
    "plt.tight_layout()\n",
    "plt.show()"
   ]
  }
 ],
 "metadata": {
  "anaconda-cloud": {},
  "kernelspec": {
   "display_name": "Python [default]",
   "language": "python",
   "name": "python2"
  },
  "language_info": {
   "codemirror_mode": {
    "name": "ipython",
    "version": 2
   },
   "file_extension": ".py",
   "mimetype": "text/x-python",
   "name": "python",
   "nbconvert_exporter": "python",
   "pygments_lexer": "ipython2",
   "version": "2.7.12"
  }
 },
 "nbformat": 4,
 "nbformat_minor": 1
}
