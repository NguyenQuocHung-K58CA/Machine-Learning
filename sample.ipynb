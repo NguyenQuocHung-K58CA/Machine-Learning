{
 "cells": [
  {
   "cell_type": "code",
   "execution_count": 2,
   "metadata": {
    "collapsed": false
   },
   "outputs": [
    {
     "name": "stdout",
     "output_type": "stream",
     "text": [
      "[array([0, 1, 2]), array([3, 4, 5]), array([6, 7]), array([8, 9])]\n",
      "hihi\n"
     ]
    }
   ],
   "source": [
    "import scipy as sp\n",
    "import numpy as np\n",
    "\n",
    "a = np.array_split(range(10), 4)\n",
    "print a\n",
    "\n",
    "print \"hihi\""
   ]
  },
  {
   "cell_type": "code",
   "execution_count": 30,
   "metadata": {
    "collapsed": false
   },
   "outputs": [
    {
     "name": "stdout",
     "output_type": "stream",
     "text": [
      "[1 2 3 4 5 6]\n",
      "1\n",
      "(6,)\n",
      "[[1 2]\n",
      " [3 4]\n",
      " [5 6]]\n",
      "2\n",
      "(3, 2)\n"
     ]
    }
   ],
   "source": [
    "import numpy as np\n",
    "\n",
    "a = np.array([1, 2, 3, 4, 5, 6])\n",
    "print a\n",
    "print a.ndim\n",
    "print a.shape\n",
    "\n",
    "b = a.reshape(3, 2)\n",
    "print b\n",
    "print b.ndim\n",
    "print b.shape\n"
   ]
  },
  {
   "cell_type": "code",
   "execution_count": 31,
   "metadata": {
    "collapsed": false
   },
   "outputs": [
    {
     "name": "stdout",
     "output_type": "stream",
     "text": [
      "[[11  2]\n",
      " [ 3  4]\n",
      " [ 5  6]]\n",
      "[1 2 3 4 5 6]\n"
     ]
    }
   ],
   "source": [
    "c = a.reshape(3, 2).copy()\n",
    "c[0][0] = 11\n",
    "print c\n",
    "print a"
   ]
  },
  {
   "cell_type": "code",
   "execution_count": 42,
   "metadata": {
    "collapsed": false
   },
   "outputs": [
    {
     "data": {
      "text/plain": [
       "array([1, 2, 3, 4, 5, 5])"
      ]
     },
     "execution_count": 42,
     "metadata": {},
     "output_type": "execute_result"
    }
   ],
   "source": [
    "a[np.array([2, 3, 4])]\n",
    "a.clip(0, 5)"
   ]
  },
  {
   "cell_type": "code",
   "execution_count": 48,
   "metadata": {
    "collapsed": false
   },
   "outputs": [
    {
     "name": "stdout",
     "output_type": "stream",
     "text": [
      "Normal Python: 0.662777 sec\n",
      "Naive NumPy: 0.921280 sec\n",
      "Good NumPy: 0.013468 sec\n"
     ]
    }
   ],
   "source": [
    "import timeit\n",
    "normal_py_sec = timeit.timeit('sum(x*x for x in xrange(1000))',\n",
    "number=10000)\n",
    "naive_np_sec = timeit.timeit('sum(na*na)',\n",
    "setup=\"import numpy as np; na=np.arange(1000)\",\n",
    "number=10000)\n",
    "good_np_sec = timeit.timeit('na.dot(na)',\n",
    "setup=\"import numpy as np; na=np.arange(1000)\",\n",
    "number=10000)\n",
    "\n",
    "print(\"Normal Python: %f sec\"%normal_py_sec)\n",
    "print(\"Naive NumPy: %f sec\"%naive_np_sec)\n",
    "print(\"Good NumPy: %f sec\"%good_np_sec)"
   ]
  }
 ],
 "metadata": {
  "anaconda-cloud": {},
  "kernelspec": {
   "display_name": "Python [conda root]",
   "language": "python",
   "name": "conda-root-py"
  },
  "language_info": {
   "codemirror_mode": {
    "name": "ipython",
    "version": 2
   },
   "file_extension": ".py",
   "mimetype": "text/x-python",
   "name": "python",
   "nbconvert_exporter": "python",
   "pygments_lexer": "ipython2",
   "version": "2.7.12"
  }
 },
 "nbformat": 4,
 "nbformat_minor": 1
}
